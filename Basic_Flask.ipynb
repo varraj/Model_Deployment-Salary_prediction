{
 "cells": [
  {
   "cell_type": "code",
   "execution_count": null,
   "id": "c4a9ac91",
   "metadata": {},
   "outputs": [],
   "source": [
    "from flask import Flask\n",
    "\n",
    "# Instantiate the Flask app\n",
    "app = Flask(__name__)\n",
    "\n",
    "@app.route('/') # Home directory\n",
    "def hello():\n",
    "    return \"Hello DS C26 NLP-DL Track learners. Welcome to the session of Deployment1 using Flask.\"\n",
    "\n",
    "# if you want to run this app, you must call the run()\n",
    "if __name__=='__main__':\n",
    "    app.run(debug=True)"
   ]
  }
 ],
 "metadata": {
  "kernelspec": {
   "display_name": "Python 3",
   "language": "python",
   "name": "python3"
  },
  "language_info": {
   "codemirror_mode": {
    "name": "ipython",
    "version": 3
   },
   "file_extension": ".py",
   "mimetype": "text/x-python",
   "name": "python",
   "nbconvert_exporter": "python",
   "pygments_lexer": "ipython3",
   "version": "3.8.8"
  }
 },
 "nbformat": 4,
 "nbformat_minor": 5
}
